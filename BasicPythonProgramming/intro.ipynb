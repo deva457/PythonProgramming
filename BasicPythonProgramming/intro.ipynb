{
 "cells": [
  {
   "cell_type": "markdown",
   "metadata": {},
   "source": [
    "# **Introduction of python Programming**\n"
   ]
  },
  {
   "cell_type": "code",
   "execution_count": 3,
   "metadata": {},
   "outputs": [],
   "source": [
    "# Variable assignment\n",
    "number = 100\n",
    "number1 = 100.20\n",
    "str = 'Hello World' \n",
    "\n",
    "num = '1234'\n",
    "\n",
    "num1,num2,num3 = 10,20,30"
   ]
  },
  {
   "cell_type": "code",
   "execution_count": 4,
   "metadata": {},
   "outputs": [],
   "source": [
    "Number = 200"
   ]
  },
  {
   "cell_type": "code",
   "execution_count": 5,
   "metadata": {},
   "outputs": [
    {
     "data": {
      "text/plain": [
       "200"
      ]
     },
     "execution_count": 5,
     "metadata": {},
     "output_type": "execute_result"
    }
   ],
   "source": [
    "Number"
   ]
  },
  {
   "cell_type": "code",
   "execution_count": 6,
   "metadata": {},
   "outputs": [
    {
     "name": "stdout",
     "output_type": "stream",
     "text": [
      "100\n"
     ]
    }
   ],
   "source": [
    "print(number)"
   ]
  },
  {
   "cell_type": "code",
   "execution_count": 11,
   "metadata": {},
   "outputs": [
    {
     "name": "stdout",
     "output_type": "stream",
     "text": [
      "<class 'int'>\n",
      "<class 'float'>\n",
      "<class 'str'>\n",
      "<class 'str'>\n"
     ]
    }
   ],
   "source": [
    "# checking datatype\n",
    "\n",
    "print(type(number))\n",
    "print(type(number1))\n",
    "print(type(str))\n",
    "print(type(num))"
   ]
  },
  {
   "cell_type": "code",
   "execution_count": 14,
   "metadata": {},
   "outputs": [],
   "source": [
    "n1,n2,n3 =100,200,300\n",
    "\n",
    "no1,no2,_,no4 = 100,200,300,400"
   ]
  },
  {
   "cell_type": "code",
   "execution_count": 15,
   "metadata": {},
   "outputs": [
    {
     "name": "stdout",
     "output_type": "stream",
     "text": [
      "the variable name number is  100\n"
     ]
    }
   ],
   "source": [
    "print('the variable name number is ',number)"
   ]
  },
  {
   "cell_type": "code",
   "execution_count": 16,
   "metadata": {},
   "outputs": [
    {
     "name": "stdout",
     "output_type": "stream",
     "text": [
      "addition of number1 and number2 300\n"
     ]
    }
   ],
   "source": [
    "number1=100\n",
    "number2=200\n",
    "\n",
    "Addition =number1 + number2\n",
    "\n",
    "print ('addition of number1 and number2',Addition)"
   ]
  },
  {
   "cell_type": "code",
   "execution_count": 19,
   "metadata": {},
   "outputs": [
    {
     "name": "stdout",
     "output_type": "stream",
     "text": [
      "subtraction of number1 and number2 -100\n"
     ]
    }
   ],
   "source": [
    "number1=100\n",
    "number2=200\n",
    "\n",
    "subtraction =number1 - number2\n",
    "\n",
    "print ('subtraction of number1 and number2',subtraction)"
   ]
  },
  {
   "cell_type": "code",
   "execution_count": 18,
   "metadata": {},
   "outputs": [
    {
     "name": "stdout",
     "output_type": "stream",
     "text": [
      "multiplication of number1 and number2 20000\n"
     ]
    }
   ],
   "source": [
    "number1=100\n",
    "number2=200\n",
    "\n",
    "multipliction =number1 * number2\n",
    "\n",
    "print ('multiplication of number1 and number2',multipliction)"
   ]
  },
  {
   "cell_type": "code",
   "execution_count": 20,
   "metadata": {},
   "outputs": [
    {
     "name": "stdout",
     "output_type": "stream",
     "text": [
      "division of number1 and number2 0.5\n"
     ]
    }
   ],
   "source": [
    "number1=100\n",
    "number2=200\n",
    "\n",
    "division  =number1 /  number2\n",
    "\n",
    "print ('division of number1 and number2',division)"
   ]
  },
  {
   "cell_type": "code",
   "execution_count": 21,
   "metadata": {},
   "outputs": [
    {
     "name": "stdout",
     "output_type": "stream",
     "text": [
      "division of number1 and number2 2\n"
     ]
    }
   ],
   "source": [
    "# floor Division \n",
    "number1=200\n",
    "number2=100\n",
    "\n",
    "division  =number1 //  number2\n",
    "\n",
    "print ('division of number1 and number2',division)\n"
   ]
  },
  {
   "cell_type": "code",
   "execution_count": null,
   "metadata": {},
   "outputs": [
    {
     "name": "stdout",
     "output_type": "stream",
     "text": [
      "addition of num and num1 22342234\n"
     ]
    }
   ],
   "source": [
    "num=2\n",
    "num1 = '2234'\n",
    "\n",
    "print ('addition of num and num1',(num * num1)) # if i am considering of 1 numerical and using multiplication in concatination"
   ]
  },
  {
   "cell_type": "code",
   "execution_count": 3,
   "metadata": {},
   "outputs": [
    {
     "name": "stdout",
     "output_type": "stream",
     "text": [
      "hello world  2\n"
     ]
    }
   ],
   "source": [
    "print ('hello world ',num)"
   ]
  },
  {
   "cell_type": "code",
   "execution_count": 6,
   "metadata": {},
   "outputs": [
    {
     "name": "stdout",
     "output_type": "stream",
     "text": [
      "devidas\n"
     ]
    }
   ],
   "source": [
    "name = input ('enter your name :')\n",
    "\n",
    "print(name)"
   ]
  },
  {
   "cell_type": "code",
   "execution_count": 7,
   "metadata": {},
   "outputs": [
    {
     "name": "stdout",
     "output_type": "stream",
     "text": [
      "10\n"
     ]
    }
   ],
   "source": [
    "number = input('enter the number')\n",
    "\n",
    "print(number)"
   ]
  },
  {
   "cell_type": "code",
   "execution_count": null,
   "metadata": {},
   "outputs": [
    {
     "name": "stdout",
     "output_type": "stream",
     "text": [
      "<class 'str'>\n"
     ]
    }
   ],
   "source": [
    "print(type(number))\n",
    "#if i am using a input as a function then out will be string"
   ]
  },
  {
   "cell_type": "code",
   "execution_count": null,
   "metadata": {},
   "outputs": [
    {
     "name": "stdout",
     "output_type": "stream",
     "text": [
      "100\n",
      "<class 'int'>\n"
     ]
    }
   ],
   "source": [
    "# Type casting\n",
    "\n",
    "Num = int(input('enter the number'))\n",
    "\n",
    "print(Num)\n",
    "print(type(Num)) #type Casting from string to integer\n",
    "\n",
    "\n"
   ]
  },
  {
   "cell_type": "code",
   "execution_count": 13,
   "metadata": {},
   "outputs": [
    {
     "name": "stdout",
     "output_type": "stream",
     "text": [
      "Addition the num1 and num2 =  300.0\n"
     ]
    }
   ],
   "source": [
    "# Addition of Number\n",
    "\n",
    "num1 = float(input('enter the first number'))\n",
    "\n",
    "num2 = float(input('enter the second number'))\n",
    "\n",
    "\n",
    "addition =num1 + num2\n",
    "\n",
    "print('Addition the num1 and num2 = ',addition)"
   ]
  }
 ],
 "metadata": {
  "kernelspec": {
   "display_name": "base",
   "language": "python",
   "name": "python3"
  },
  "language_info": {
   "codemirror_mode": {
    "name": "ipython",
    "version": 3
   },
   "file_extension": ".py",
   "mimetype": "text/x-python",
   "name": "python",
   "nbconvert_exporter": "python",
   "pygments_lexer": "ipython3",
   "version": "3.12.7"
  }
 },
 "nbformat": 4,
 "nbformat_minor": 2
}
